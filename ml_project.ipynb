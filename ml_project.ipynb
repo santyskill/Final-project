{
 "cells": [
  {
   "cell_type": "markdown",
   "metadata": {},
   "source": [
    "# Итоговый проект на курсе Data Science школа SkillFactory\n",
    "# «Модель прогнозирования стоимости жилья для агентства недвижимости»"
   ]
  },
  {
   "cell_type": "markdown",
   "metadata": {},
   "source": [
    "**Цель:** разработать модель, которая позволила бы агентству недвижимости обойти конкурентов по скорости и качеству совершения сделок."
   ]
  },
  {
   "cell_type": "code",
   "execution_count": 39,
   "metadata": {},
   "outputs": [],
   "source": [
    "# Импорт библиотек\n",
    "import numpy as np \n",
    "import pandas as pd\n",
    "\n",
    "import matplotlib.pyplot as plt\n",
    "import os\n",
    "\n",
    "import seaborn as sns\n",
    "import plotly.subplots as spimport\n",
    "import matplotlib.pyplot as plt\n",
    "\n",
    "from sklearn import preprocessing\n",
    "from sklearn.preprocessing import MinMaxScaler\n",
    "\n",
    "from sklearn.ensemble import RandomForestRegressor\n",
    "from sklearn.linear_model import ElasticNetCV\n",
    "from sklearn.linear_model import LinearRegression\n",
    "from sklearn.linear_model import Ridge\n",
    "from sklearn.linear_model import RidgeCV\n",
    "from sklearn.model_selection import cross_validate\n",
    "from sklearn.model_selection import GridSearchCV\n",
    "from sklearn.model_selection import RandomizedSearchCV\n",
    "from sklearn.linear_model import SGDRegressor\n",
    "from sklearn.model_selection import train_test_split\n",
    "from sklearn import metrics\n",
    "from catboost import CatBoostRegressor\n",
    "from category_encoders import TargetEncoder, CatBoostEncoder\n",
    "from sklearn.metrics import mean_squared_error, mean_absolute_error, r2_score\n",
    "from sklearn.preprocessing import StandardScaler, PolynomialFeatures\n",
    "%matplotlib inline"
   ]
  },
  {
   "cell_type": "code",
   "execution_count": 14,
   "metadata": {},
   "outputs": [],
   "source": [
    "# Фиксация RANDOM_SEED\n",
    "RANDOM_SEED = 42"
   ]
  },
  {
   "cell_type": "code",
   "execution_count": 15,
   "metadata": {},
   "outputs": [],
   "source": [
    "# Фиксация версии пакетов\n",
    "!pip freeze > requirements.txt"
   ]
  },
  {
   "cell_type": "markdown",
   "metadata": {},
   "source": [
    "## Моделирование и оценка модели"
   ]
  },
  {
   "cell_type": "code",
   "execution_count": 16,
   "metadata": {},
   "outputs": [
    {
     "data": {
      "text/html": [
       "<div>\n",
       "<style scoped>\n",
       "    .dataframe tbody tr th:only-of-type {\n",
       "        vertical-align: middle;\n",
       "    }\n",
       "\n",
       "    .dataframe tbody tr th {\n",
       "        vertical-align: top;\n",
       "    }\n",
       "\n",
       "    .dataframe thead th {\n",
       "        text-align: right;\n",
       "    }\n",
       "</style>\n",
       "<table border=\"1\" class=\"dataframe\">\n",
       "  <thead>\n",
       "    <tr style=\"text-align: right;\">\n",
       "      <th></th>\n",
       "      <th>baths</th>\n",
       "      <th>sqft</th>\n",
       "      <th>target</th>\n",
       "      <th>private_pool</th>\n",
       "      <th>avg_schools_rating</th>\n",
       "      <th>school_distance_min</th>\n",
       "      <th>status_Active</th>\n",
       "      <th>status_Auction</th>\n",
       "      <th>status_Back on market</th>\n",
       "      <th>status_Closed</th>\n",
       "      <th>...</th>\n",
       "      <th>propertyType_mobile home</th>\n",
       "      <th>propertyType_multi family</th>\n",
       "      <th>propertyType_other</th>\n",
       "      <th>propertyType_ranch</th>\n",
       "      <th>propertyType_single family</th>\n",
       "      <th>propertyType_townhouse</th>\n",
       "      <th>state_label</th>\n",
       "      <th>year_label</th>\n",
       "      <th>city_label</th>\n",
       "      <th>zipcode_label</th>\n",
       "    </tr>\n",
       "  </thead>\n",
       "  <tbody>\n",
       "    <tr>\n",
       "      <th>0</th>\n",
       "      <td>1.252763</td>\n",
       "      <td>7.972466</td>\n",
       "      <td>12.943237</td>\n",
       "      <td>False</td>\n",
       "      <td>1.648659</td>\n",
       "      <td>0.993252</td>\n",
       "      <td>True</td>\n",
       "      <td>False</td>\n",
       "      <td>False</td>\n",
       "      <td>False</td>\n",
       "      <td>...</td>\n",
       "      <td>False</td>\n",
       "      <td>False</td>\n",
       "      <td>False</td>\n",
       "      <td>False</td>\n",
       "      <td>True</td>\n",
       "      <td>False</td>\n",
       "      <td>19</td>\n",
       "      <td>206</td>\n",
       "      <td>1374</td>\n",
       "      <td>812</td>\n",
       "    </tr>\n",
       "    <tr>\n",
       "      <th>1</th>\n",
       "      <td>1.098613</td>\n",
       "      <td>7.574045</td>\n",
       "      <td>12.644328</td>\n",
       "      <td>False</td>\n",
       "      <td>1.386295</td>\n",
       "      <td>0.009951</td>\n",
       "      <td>False</td>\n",
       "      <td>False</td>\n",
       "      <td>False</td>\n",
       "      <td>False</td>\n",
       "      <td>...</td>\n",
       "      <td>False</td>\n",
       "      <td>False</td>\n",
       "      <td>False</td>\n",
       "      <td>False</td>\n",
       "      <td>True</td>\n",
       "      <td>False</td>\n",
       "      <td>33</td>\n",
       "      <td>206</td>\n",
       "      <td>1383</td>\n",
       "      <td>3946</td>\n",
       "    </tr>\n",
       "    <tr>\n",
       "      <th>2</th>\n",
       "      <td>-13.815511</td>\n",
       "      <td>7.317876</td>\n",
       "      <td>12.109011</td>\n",
       "      <td>False</td>\n",
       "      <td>0.847298</td>\n",
       "      <td>-0.223142</td>\n",
       "      <td>True</td>\n",
       "      <td>False</td>\n",
       "      <td>False</td>\n",
       "      <td>False</td>\n",
       "      <td>...</td>\n",
       "      <td>False</td>\n",
       "      <td>False</td>\n",
       "      <td>True</td>\n",
       "      <td>False</td>\n",
       "      <td>False</td>\n",
       "      <td>False</td>\n",
       "      <td>5</td>\n",
       "      <td>193</td>\n",
       "      <td>1073</td>\n",
       "      <td>1362</td>\n",
       "    </tr>\n",
       "    <tr>\n",
       "      <th>3</th>\n",
       "      <td>1.098613</td>\n",
       "      <td>7.565275</td>\n",
       "      <td>12.650742</td>\n",
       "      <td>False</td>\n",
       "      <td>1.098613</td>\n",
       "      <td>-0.510824</td>\n",
       "      <td>False</td>\n",
       "      <td>False</td>\n",
       "      <td>False</td>\n",
       "      <td>False</td>\n",
       "      <td>...</td>\n",
       "      <td>False</td>\n",
       "      <td>False</td>\n",
       "      <td>False</td>\n",
       "      <td>False</td>\n",
       "      <td>True</td>\n",
       "      <td>False</td>\n",
       "      <td>29</td>\n",
       "      <td>206</td>\n",
       "      <td>658</td>\n",
       "      <td>2473</td>\n",
       "    </tr>\n",
       "    <tr>\n",
       "      <th>4</th>\n",
       "      <td>0.693148</td>\n",
       "      <td>7.170120</td>\n",
       "      <td>13.413539</td>\n",
       "      <td>False</td>\n",
       "      <td>1.897120</td>\n",
       "      <td>-1.203969</td>\n",
       "      <td>False</td>\n",
       "      <td>False</td>\n",
       "      <td>False</td>\n",
       "      <td>False</td>\n",
       "      <td>...</td>\n",
       "      <td>False</td>\n",
       "      <td>False</td>\n",
       "      <td>False</td>\n",
       "      <td>False</td>\n",
       "      <td>False</td>\n",
       "      <td>False</td>\n",
       "      <td>22</td>\n",
       "      <td>152</td>\n",
       "      <td>486</td>\n",
       "      <td>255</td>\n",
       "    </tr>\n",
       "  </tbody>\n",
       "</table>\n",
       "<p>5 rows × 33 columns</p>\n",
       "</div>"
      ],
      "text/plain": [
       "       baths      sqft     target  private_pool  avg_schools_rating  \\\n",
       "0   1.252763  7.972466  12.943237         False            1.648659   \n",
       "1   1.098613  7.574045  12.644328         False            1.386295   \n",
       "2 -13.815511  7.317876  12.109011         False            0.847298   \n",
       "3   1.098613  7.565275  12.650742         False            1.098613   \n",
       "4   0.693148  7.170120  13.413539         False            1.897120   \n",
       "\n",
       "   school_distance_min  status_Active  status_Auction  status_Back on market  \\\n",
       "0             0.993252           True           False                  False   \n",
       "1             0.009951          False           False                  False   \n",
       "2            -0.223142           True           False                  False   \n",
       "3            -0.510824          False           False                  False   \n",
       "4            -1.203969          False           False                  False   \n",
       "\n",
       "   status_Closed  ...  propertyType_mobile home  propertyType_multi family  \\\n",
       "0          False  ...                     False                      False   \n",
       "1          False  ...                     False                      False   \n",
       "2          False  ...                     False                      False   \n",
       "3          False  ...                     False                      False   \n",
       "4          False  ...                     False                      False   \n",
       "\n",
       "   propertyType_other  propertyType_ranch  propertyType_single family  \\\n",
       "0               False               False                        True   \n",
       "1               False               False                        True   \n",
       "2                True               False                       False   \n",
       "3               False               False                        True   \n",
       "4               False               False                       False   \n",
       "\n",
       "   propertyType_townhouse  state_label  year_label  city_label  zipcode_label  \n",
       "0                   False           19         206        1374            812  \n",
       "1                   False           33         206        1383           3946  \n",
       "2                   False            5         193        1073           1362  \n",
       "3                   False           29         206         658           2473  \n",
       "4                   False           22         152         486            255  \n",
       "\n",
       "[5 rows x 33 columns]"
      ]
     },
     "execution_count": 16,
     "metadata": {},
     "output_type": "execute_result"
    }
   ],
   "source": [
    "df = pd.read_csv('data/eda_data.csv')\n",
    "df.head()"
   ]
  },
  {
   "cell_type": "code",
   "execution_count": 17,
   "metadata": {},
   "outputs": [
    {
     "name": "stdout",
     "output_type": "stream",
     "text": [
      "<class 'pandas.core.frame.DataFrame'>\n",
      "RangeIndex: 280292 entries, 0 to 280291\n",
      "Data columns (total 33 columns):\n",
      " #   Column                      Non-Null Count   Dtype  \n",
      "---  ------                      --------------   -----  \n",
      " 0   baths                       280292 non-null  float64\n",
      " 1   sqft                        280292 non-null  float64\n",
      " 2   target                      280292 non-null  float64\n",
      " 3   private_pool                280292 non-null  bool   \n",
      " 4   avg_schools_rating          280292 non-null  float64\n",
      " 5   school_distance_min         280292 non-null  float64\n",
      " 6   status_Active               280292 non-null  bool   \n",
      " 7   status_Auction              280292 non-null  bool   \n",
      " 8   status_Back on market       280292 non-null  bool   \n",
      " 9   status_Closed               280292 non-null  bool   \n",
      " 10  status_Coming soon          280292 non-null  bool   \n",
      " 11  status_Contingent           280292 non-null  bool   \n",
      " 12  status_For rent             280292 non-null  bool   \n",
      " 13  status_For sale             280292 non-null  bool   \n",
      " 14  status_Listing extended     280292 non-null  bool   \n",
      " 15  status_Pending              280292 non-null  bool   \n",
      " 16  status_Price change         280292 non-null  bool   \n",
      " 17  status_Under contract       280292 non-null  bool   \n",
      " 18  status_unknown              280292 non-null  bool   \n",
      " 19  propertyType_apartment      280292 non-null  bool   \n",
      " 20  propertyType_condo          280292 non-null  bool   \n",
      " 21  propertyType_historical     280292 non-null  bool   \n",
      " 22  propertyType_land           280292 non-null  bool   \n",
      " 23  propertyType_mobile home    280292 non-null  bool   \n",
      " 24  propertyType_multi family   280292 non-null  bool   \n",
      " 25  propertyType_other          280292 non-null  bool   \n",
      " 26  propertyType_ranch          280292 non-null  bool   \n",
      " 27  propertyType_single family  280292 non-null  bool   \n",
      " 28  propertyType_townhouse      280292 non-null  bool   \n",
      " 29  state_label                 280292 non-null  int64  \n",
      " 30  year_label                  280292 non-null  int64  \n",
      " 31  city_label                  280292 non-null  int64  \n",
      " 32  zipcode_label               280292 non-null  int64  \n",
      "dtypes: bool(24), float64(5), int64(4)\n",
      "memory usage: 25.7 MB\n"
     ]
    }
   ],
   "source": [
    "df.info()"
   ]
  },
  {
   "cell_type": "markdown",
   "metadata": {},
   "source": [
    "### Разделение данных"
   ]
  },
  {
   "cell_type": "code",
   "execution_count": 18,
   "metadata": {},
   "outputs": [],
   "source": [
    "y = df['target']\n",
    "X = df.drop(['target'], axis=1)\n",
    "X_train, X_test, y_train, y_test = train_test_split(X, y, test_size=0.2, shuffle=True, random_state=RANDOM_SEED)"
   ]
  },
  {
   "cell_type": "markdown",
   "metadata": {},
   "source": [
    "## 1. \"Наивная\" модель \n",
    "Эта модель будет предсказывать среднюю стоимость по общей площади и городу. \n",
    "C ней будем сравнивать другие модели."
   ]
  },
  {
   "cell_type": "code",
   "execution_count": 19,
   "metadata": {},
   "outputs": [
    {
     "name": "stdout",
     "output_type": "stream",
     "text": [
      "Train MSE: 0.44\n",
      "Test MSE: 0.44\n",
      "Train MAE: 0.48\n",
      "Test MAE: 0.48\n",
      "Train R2: 0.40\n",
      "Test R2: 0.41\n"
     ]
    }
   ],
   "source": [
    "# Наивная модель\n",
    "class NaiveModel:\n",
    "    def __init__(self):\n",
    "        self.means = None\n",
    "\n",
    "    def fit(self, X, y):\n",
    "        X_df = pd.DataFrame(X, columns=['city_label'])\n",
    "        y_df = pd.DataFrame(y, columns=['target'])\n",
    "        df = pd.concat([X_df, y_df], axis=1)\n",
    "        self.means = df.groupby(['city_label'])['target'].mean().reset_index()\n",
    "\n",
    "    def predict(self, X):\n",
    "        X = pd.DataFrame(X, columns=['city_label']).copy()\n",
    "        X['mean'] = np.nan\n",
    "        for idx, row in self.means.iterrows():\n",
    "            X.loc[(X['city_label'] == row['city_label']), 'mean'] = row['target']\n",
    "        \n",
    "        X['mean'].fillna(X['mean'].mean(), inplace=True)\n",
    "        return X['mean'].to_numpy()\n",
    "\n",
    "naive_model = NaiveModel()\n",
    "\n",
    "# Обучение модели\n",
    "naive_model.fit(X_train, y_train)\n",
    "\n",
    "# Предсказание с помощью модели\n",
    "y_pred_train = naive_model.predict(X_train)\n",
    "y_pred_test = naive_model.predict(X_test)\n",
    "\n",
    "# Расчет метрик\n",
    "mse_train = mean_squared_error(y_train, y_pred_train)\n",
    "mse_test = mean_squared_error(y_test, y_pred_test)\n",
    "mae_train = mean_absolute_error(y_train, y_pred_train)\n",
    "mae_test = mean_absolute_error(y_test, y_pred_test)\n",
    "r2_train = r2_score(y_train, y_pred_train)\n",
    "r2_test = r2_score(y_test, y_pred_test)\n",
    "\n",
    "print(f\"Train MSE: {mse_train:.2f}\")\n",
    "print(f\"Test MSE: {mse_test:.2f}\")\n",
    "print(f\"Train MAE: {mae_train:.2f}\")\n",
    "print(f\"Test MAE: {mae_test:.2f}\")\n",
    "print(f\"Train R2: {r2_train:.2f}\")\n",
    "print(f\"Test R2: {r2_test:.2f}\")"
   ]
  },
  {
   "cell_type": "markdown",
   "metadata": {},
   "source": [
    "MAE (Средняя абсолютная ошибка, Mean Absolute Error) - это мера ошибки, вычисленная как среднее значение абсолютных значений ошибок. Меньшие значения MAE указывают на лучшую точность модели. В данном случае:\n",
    "\n",
    "Train MAE: 0.48 - это средняя абсолютная ошибка на обучающей выборке.\n",
    "Test MAE: 0.48 - это средняя абсолютная ошибка на тестовой выборке.\n",
    "R^2 (коэффициент детерминации) - статистическая мера, которая показывает, насколько хорошо вариации зависимой переменной объясняются моделью. Значения R^2 находятся в диапазоне от -∞ до 1. Чем ближе значение R^2 к 1, тем лучше модель объясняет зависимость между переменными. В данном случае:\n",
    "\n",
    "Train R2: 0.40 - это коэффициент детерминации на обучающей выборке.\n",
    "Test R2: 0.41 - это коэффициент детерминации на тестовой выборке.\n",
    "\n",
    "### Выводы\n",
    "Значения MSE и MAE, как для обучающей, так и для тестовой выборки, одинаковы. Это говорит о том, что модель демонстрирует схожую производительность на обеих выборках и не страдает от переобучения или недообучения.\n",
    "\n",
    "Значения R2 меньше 0.5, что говорит о том, что модель слабо объясняет зависимость между переменными. Это может свидетельствовать о низкой предсказательной способности \"наивной\" модели."
   ]
  },
  {
   "cell_type": "markdown",
   "metadata": {},
   "source": [
    "## 2. Линейная регрессия LinearRegression"
   ]
  },
  {
   "cell_type": "code",
   "execution_count": 20,
   "metadata": {},
   "outputs": [
    {
     "name": "stdout",
     "output_type": "stream",
     "text": [
      "Train MSE: 0.45\n",
      "Test MSE: 0.45\n",
      "Train MAE: 0.48\n",
      "Test MAE: 0.48\n",
      "Train R2: 0.38\n",
      "Test R2: 0.39\n"
     ]
    }
   ],
   "source": [
    "# Модель линейной регрессии\n",
    "model = LinearRegression(fit_intercept=False)\n",
    "\n",
    "# Обучение модели\n",
    "model.fit(X_train, y_train)\n",
    "\n",
    "# Предсказания с помощью модели\n",
    "y_train_pred = model.predict(X_train)\n",
    "y_test_pred = model.predict(X_test)\n",
    "\n",
    "# Расчет метрик с помощью модели\n",
    "mse_train = metrics.mean_squared_error(y_train, y_train_pred)\n",
    "mse_test = metrics.mean_squared_error(y_test, y_test_pred)\n",
    "mae_train = metrics.mean_absolute_error(y_train, y_train_pred)\n",
    "mae_test = metrics.mean_absolute_error(y_test, y_test_pred)\n",
    "r2_train = metrics.r2_score(y_train, y_train_pred)\n",
    "r2_test = metrics.r2_score(y_test, y_test_pred)\n",
    "\n",
    "print(f\"Train MSE: {mse_train:.2f}\")\n",
    "print(f\"Test MSE: {mse_test:.2f}\")\n",
    "print(f\"Train MAE: {mae_train:.2f}\")\n",
    "print(f\"Test MAE: {mae_test:.2f}\")\n",
    "print(f\"Train R2: {r2_train:.2f}\")\n",
    "print(f\"Test R2: {r2_test:.2f}\")"
   ]
  },
  {
   "cell_type": "markdown",
   "metadata": {},
   "source": [
    "### Выводы\n",
    "\n",
    "Значения на тренировочных и тестовых выборках не сильно отличаются, значит модель не переобучена.\n",
    "\n",
    "Но значения ошибок такое же(MAE = 0.48) или даже немного больше(MSE = 0.45), чем в \"наивной\" модели.\n",
    "\n",
    "В то же время коэффициент детерминации (далее R2) чем выше, тем лучше, стоящие показатели модели должны быть больше 0,5. На модели линейной регрессии у нас R2 равно 0.39 на тестовой выборке, и 0.38 на тренировочной. Это значит модель смогла уловить 39 % и 38 % информации о дисперсии соответственно.\n",
    "\n",
    "Метрики хуже, чем у \"наивной\" модели.\n",
    "\n",
    "Из всего этого можно сделать вывод, что есть куда развивать модель, пробовать подбор параметров, ансамблевые модели."
   ]
  },
  {
   "cell_type": "markdown",
   "metadata": {},
   "source": [
    "## 3. Регуляризация Ridge (L2)"
   ]
  },
  {
   "cell_type": "markdown",
   "metadata": {},
   "source": [
    "Так как ,судя по метрикам, у нас нет переобучения, мы можем использовать регуляризацию для улучшения обобщающей способности модели. Данных у нас достаточно, и мы избавились от выбросов. Попробуем улучшить модель Ridge регуляризацией."
   ]
  },
  {
   "cell_type": "code",
   "execution_count": 21,
   "metadata": {},
   "outputs": [
    {
     "name": "stdout",
     "output_type": "stream",
     "text": [
      "Train MSE: 0.45\n",
      "Test MSE: 0.45\n",
      "Train MAE: 0.48\n",
      "Test MAE: 0.48\n",
      "Train R2: 0.38\n",
      "Test R2: 0.39\n"
     ]
    }
   ],
   "source": [
    "# Модель Ridge регрессии\n",
    "ridge = Ridge(alpha = 10)\n",
    "\n",
    "# Обучение модели \n",
    "ridge.fit(X_train, y_train)\n",
    " \n",
    "# Предсказание с помощью модели\n",
    "y_pred_train = ridge.predict(X_train)\n",
    "y_pred_test = ridge.predict(X_test)\n",
    "\n",
    "# Расчет метрик\n",
    "mse_train = mean_squared_error(y_train, y_train_pred)\n",
    "mse_test = mean_squared_error(y_test, y_test_pred)\n",
    "mae_train = mean_absolute_error(y_train, y_train_pred)\n",
    "mae_test = mean_absolute_error(y_test, y_test_pred)\n",
    "r2_train = r2_score(y_train, y_train_pred)\n",
    "r2_test = r2_score(y_test, y_test_pred)\n",
    "\n",
    "print(f\"Train MSE: {mse_train:.2f}\")\n",
    "print(f\"Test MSE: {mse_test:.2f}\")\n",
    "print(f\"Train MAE: {mae_train:.2f}\")\n",
    "print(f\"Test MAE: {mae_test:.2f}\")\n",
    "print(f\"Train R2: {r2_train:.2f}\")\n",
    "print(f\"Test R2: {r2_test:.2f}\")"
   ]
  },
  {
   "cell_type": "code",
   "execution_count": 22,
   "metadata": {},
   "outputs": [
    {
     "data": {
      "image/png": "[encoded data removed]",
      "text/plain": [
       "<Figure size 500x500 with 1 Axes>"
      ]
     },
     "metadata": {},
     "output_type": "display_data"
    }
   ],
   "source": [
    "# Графики весов двух моделей LinearRegression и Ridge\n",
    "features = X.columns\n",
    " \n",
    "plt.figure(figsize = (5, 5))\n",
    "plt.plot(features, ridge.coef_, alpha=0.7, linestyle='none' , marker='*', markersize=5, color='red', label=r'Ridge; альфа=10', zorder = 7)\n",
    "plt.plot(features, model.coef_, alpha=0.4, linestyle='none', marker='o', markersize=7, color='green',label='Linear Regression')\n",
    "plt.xticks(rotation = 0)\n",
    "plt.legend()\n",
    "plt.show()"
   ]
  },
  {
   "cell_type": "markdown",
   "metadata": {},
   "source": [
    "### Выводы\n",
    "\n",
    "Метрики не изменились, что указывает на то, что регуляризация нам не помогла в улучшении предсказаний. Хотя веса более сбалансированы. Попробуем другой способ регуляризации ElasticNetCV. Elastic Net использует как L1, так и L2 регуляризацию и координатный спуск для минимизации функции потерь."
   ]
  },
  {
   "cell_type": "markdown",
   "metadata": {},
   "source": [
    "## 4. ElacticNetCV"
   ]
  },
  {
   "cell_type": "code",
   "execution_count": 23,
   "metadata": {},
   "outputs": [
    {
     "name": "stdout",
     "output_type": "stream",
     "text": [
      "Train MSE: 0.58\n",
      "Test MSE: 0.59\n",
      "Train MAE: 0.54\n",
      "Test MAE: 0.55\n",
      "Train R2: 0.20\n",
      "Test R2: 0.21\n"
     ]
    }
   ],
   "source": [
    "# Модель ElasticNetCV с кросс-валидацией по 5 фолдам\n",
    "elastic = ElasticNetCV(cv=5, random_state=RANDOM_SEED)\n",
    "\n",
    "# Обучение модели\n",
    "elastic.fit(X_train, y_train)\n",
    "\n",
    "# Предсказания для обучающей и тестовой выборок\n",
    "y_train_pred = elastic.predict(X_train)\n",
    "y_test_pred = elastic.predict(X_test)\n",
    "\n",
    "# Расчет метрик\n",
    "mse_train = mean_squared_error(y_train, y_train_pred)\n",
    "mse_test = mean_squared_error(y_test, y_test_pred)\n",
    "mae_train = mean_absolute_error(y_train, y_train_pred)\n",
    "mae_test = mean_absolute_error(y_test, y_test_pred)\n",
    "r2_train = r2_score(y_train, y_train_pred)\n",
    "r2_test = r2_score(y_test, y_test_pred)\n",
    "\n",
    "print(f\"Train MSE: {mse_train:.2f}\")\n",
    "print(f\"Test MSE: {mse_test:.2f}\")\n",
    "print(f\"Train MAE: {mae_train:.2f}\")\n",
    "print(f\"Test MAE: {mae_test:.2f}\")\n",
    "print(f\"Train R2: {r2_train:.2f}\")\n",
    "print(f\"Test R2: {r2_test:.2f}\")"
   ]
  },
  {
   "cell_type": "markdown",
   "metadata": {},
   "source": [
    "### Выводы\n",
    "MSE (Mean Squared Error) - В данном случае обучающая выборка имеет значение 0.58, а тестовая - 0.59. Эти числа близки, что означает, что модель не переобучилась, но в то же время обобщающая способность модели может быть не очень хорошей из-за высоких значений ошибок.\n",
    "\n",
    "MAE (Mean Absolute Error) - В данном случае средняя абсолютная ошибка составляет 0.54 на обучающей, и 0.55 на тестовой выборке.\n",
    "\n",
    "R2 (коэффициент детерминации) -  В данном случае R2 равен 0.20 для обучающей выборки и 0.21 для тестовой выборки. Эти значения невысоки, что говорит о плохом качестве модели и низкой способности объяснить изменчивость данных.\n",
    "\n",
    "Модель не является оптимальной.\n",
    "\n",
    "Метрики ухудшились, хотя переобучения при сравнении трейна и тестовой выборки нет. Обучим сложную ансамблевую модель бэггинга."
   ]
  },
  {
   "cell_type": "markdown",
   "metadata": {},
   "source": [
    "## 5. RandomForestRegressor"
   ]
  },
  {
   "cell_type": "code",
   "execution_count": 24,
   "metadata": {},
   "outputs": [
    {
     "name": "stdout",
     "output_type": "stream",
     "text": [
      "Train MSE: 0.01\n",
      "Test MSE: 0.09\n",
      "Train MAE: 0.07\n",
      "Test MAE: 0.19\n",
      "Train R2: 0.98\n",
      "Test R2: 0.87\n"
     ]
    }
   ],
   "source": [
    "# Модель RandomForestRegressor\n",
    "rf_regressor = RandomForestRegressor(random_state=RANDOM_SEED)\n",
    "\n",
    "# Обучение модели\n",
    "rf_regressor.fit(X_train, y_train)\n",
    "\n",
    "# Предсказания на обучающей и тестовой выборок\n",
    "y_train_pred = rf_regressor.predict(X_train)\n",
    "y_test_pred = rf_regressor.predict(X_test)\n",
    "\n",
    "# Расчет метрик\n",
    "mse_train = mean_squared_error(y_train, y_train_pred)\n",
    "mse_test = mean_squared_error(y_test, y_test_pred)\n",
    "mae_train = mean_absolute_error(y_train, y_train_pred)\n",
    "mae_test = mean_absolute_error(y_test, y_test_pred)\n",
    "r2_train = r2_score(y_train, y_train_pred)\n",
    "r2_test = r2_score(y_test, y_test_pred)\n",
    "\n",
    "print(f\"Train MSE: {mse_train:.2f}\")\n",
    "print(f\"Test MSE: {mse_test:.2f}\")\n",
    "print(f\"Train MAE: {mae_train:.2f}\")\n",
    "print(f\"Test MAE: {mae_test:.2f}\")\n",
    "print(f\"Train R2: {r2_train:.2f}\")\n",
    "print(f\"Test R2: {r2_test:.2f}\")"
   ]
  },
  {
   "cell_type": "markdown",
   "metadata": {},
   "source": [
    "### Выводы\n",
    "Среднеквадратическая ошибка (MSE) - В данном случае, значение MSE для обучающей выборки составляет 0.01, тогда как для тестовой выборки - 0.09. Такое различие может указывать на небольшое переобучение модели.\n",
    "\n",
    "Средняя абсолютная ошибка (MAE) -  В данном случае, значения MAE составили 0.07 для обучающей выборки и 0.19 для тестовой выборки. Разница между этими значениями также может указывать на переобучение.\n",
    "\n",
    "Коэффициент детерминации (R2) -  В данном случае, R2 равен 0.98 для обучающей выборки и 0.87 для тестовой выборки. Эти значения указывают на то, что модель довольно хорошо работает на обучающей выборке и неплохо предсказывает на тестовой выборке, хотя значение R2 на тестовой выборке заметно ниже, что также может указывать на переобучение модели.\n",
    "\n",
    "В целом, результаты показывают, что модель имеет хорошую производительность на обучающей выборке, но на тестовой выборке результаты хуже, что может свидетельствовать о переобучении."
   ]
  },
  {
   "cell_type": "markdown",
   "metadata": {},
   "source": [
    "На данный момент это лучшая модель.\n",
    "Попробую поддобрать гиперпараметры для модели, для ее оптимизации. Будем делать это с помощью RandomizedSearchCV."
   ]
  },
  {
   "cell_type": "markdown",
   "metadata": {},
   "source": [
    "## 6. RandomizedSearchCV"
   ]
  },
  {
   "cell_type": "code",
   "execution_count": 25,
   "metadata": {},
   "outputs": [
    {
     "name": "stdout",
     "output_type": "stream",
     "text": [
      "CPU times: total: 5min 6s\n",
      "Wall time: 45min 19s\n"
     ]
    }
   ],
   "source": [
    "# Задаем сетку параметров\n",
    "param_distributions = {'n_estimators': list(range(80, 200, 30)),\n",
    "              'min_samples_leaf': [5],\n",
    "              'max_depth': list(np.linspace(20, 40, 10, dtype=int))\n",
    "              }\n",
    "# Определяем гиперпараметры           \n",
    "random_search_forest = RandomizedSearchCV(\n",
    "    estimator=RandomForestRegressor(random_state=42), \n",
    "    param_distributions=param_distributions, \n",
    "    cv=5,\n",
    "    n_iter = 10, \n",
    "    n_jobs = -1\n",
    ")  \n",
    "%time random_search_forest.fit(X_train, y_train) \n",
    "y_train_pred = random_search_forest.predict(X_train)\n",
    "y_test_pred = random_search_forest.predict(X_test)"
   ]
  },
  {
   "cell_type": "code",
   "execution_count": 26,
   "metadata": {},
   "outputs": [
    {
     "name": "stdout",
     "output_type": "stream",
     "text": [
      "Train MSE: 0.05\n",
      "Test MSE: 0.10\n",
      "Train MAE: 0.14\n",
      "Test MAE: 0.20\n",
      "Train R2: 0.92\n",
      "Test R2: 0.86\n"
     ]
    }
   ],
   "source": [
    "# Расчет метрик\n",
    "mse_train = mean_squared_error(y_train, y_train_pred)\n",
    "mse_test = mean_squared_error(y_test, y_test_pred)\n",
    "mae_train = mean_absolute_error(y_train, y_train_pred)\n",
    "mae_test = mean_absolute_error(y_test, y_test_pred)\n",
    "r2_train = r2_score(y_train, y_train_pred)\n",
    "r2_test = r2_score(y_test, y_test_pred)\n",
    "\n",
    "print(f\"Train MSE: {mse_train:.2f}\")\n",
    "print(f\"Test MSE: {mse_test:.2f}\")\n",
    "print(f\"Train MAE: {mae_train:.2f}\")\n",
    "print(f\"Test MAE: {mae_test:.2f}\")\n",
    "print(f\"Train R2: {r2_train:.2f}\")\n",
    "print(f\"Test R2: {r2_test:.2f}\")"
   ]
  },
  {
   "cell_type": "markdown",
   "metadata": {},
   "source": [
    "### Выводы\n",
    "Подбор оптимальных гиперпараметров привел к небольшому увеличению ошибок MSE и MAE, в сравнении RandomForestRegressor, а значение R2 немного снизилось. При этом разница в метриках между трейном и тестовыми выборками меньше, а значит модель более устойчива, менее переобучена. На данный момент это наиболее удачная и сбалансированная модель.\n",
    "Попробуем еще одну модель CatBoostRegressor."
   ]
  },
  {
   "cell_type": "markdown",
   "metadata": {},
   "source": [
    "## 7. CatBoostRegressor"
   ]
  },
  {
   "cell_type": "markdown",
   "metadata": {},
   "source": [
    "CatBoostRegressor работает с необработанными категориальными данными. Поэтому буду использовать датафрейм без кодирования категориальных признаков."
   ]
  },
  {
   "cell_type": "code",
   "execution_count": 27,
   "metadata": {},
   "outputs": [
    {
     "data": {
      "text/html": [
       "<div>\n",
       "<style scoped>\n",
       "    .dataframe tbody tr th:only-of-type {\n",
       "        vertical-align: middle;\n",
       "    }\n",
       "\n",
       "    .dataframe tbody tr th {\n",
       "        vertical-align: top;\n",
       "    }\n",
       "\n",
       "    .dataframe thead th {\n",
       "        text-align: right;\n",
       "    }\n",
       "</style>\n",
       "<table border=\"1\" class=\"dataframe\">\n",
       "  <thead>\n",
       "    <tr style=\"text-align: right;\">\n",
       "      <th></th>\n",
       "      <th>status</th>\n",
       "      <th>propertyType</th>\n",
       "      <th>baths</th>\n",
       "      <th>city</th>\n",
       "      <th>sqft</th>\n",
       "      <th>zipcode</th>\n",
       "      <th>state</th>\n",
       "      <th>target</th>\n",
       "      <th>private_pool</th>\n",
       "      <th>avg_schools_rating</th>\n",
       "      <th>school_distance_min</th>\n",
       "      <th>Year built</th>\n",
       "    </tr>\n",
       "  </thead>\n",
       "  <tbody>\n",
       "    <tr>\n",
       "      <th>0</th>\n",
       "      <td>Active</td>\n",
       "      <td>single family</td>\n",
       "      <td>1.252763</td>\n",
       "      <td>Southern Pines</td>\n",
       "      <td>7.972466</td>\n",
       "      <td>28387</td>\n",
       "      <td>NC</td>\n",
       "      <td>12.943237</td>\n",
       "      <td>False</td>\n",
       "      <td>1.648659</td>\n",
       "      <td>0.993252</td>\n",
       "      <td>2019</td>\n",
       "    </tr>\n",
       "    <tr>\n",
       "      <th>1</th>\n",
       "      <td>For sale</td>\n",
       "      <td>single family</td>\n",
       "      <td>1.098613</td>\n",
       "      <td>Spokane Valley</td>\n",
       "      <td>7.574045</td>\n",
       "      <td>99216</td>\n",
       "      <td>WA</td>\n",
       "      <td>12.644328</td>\n",
       "      <td>False</td>\n",
       "      <td>1.386295</td>\n",
       "      <td>0.009951</td>\n",
       "      <td>2019</td>\n",
       "    </tr>\n",
       "    <tr>\n",
       "      <th>2</th>\n",
       "      <td>Active</td>\n",
       "      <td>other</td>\n",
       "      <td>-13.815511</td>\n",
       "      <td>POINCIANA</td>\n",
       "      <td>7.317876</td>\n",
       "      <td>34759</td>\n",
       "      <td>FL</td>\n",
       "      <td>12.109011</td>\n",
       "      <td>False</td>\n",
       "      <td>0.847298</td>\n",
       "      <td>-0.223142</td>\n",
       "      <td>2006</td>\n",
       "    </tr>\n",
       "    <tr>\n",
       "      <th>3</th>\n",
       "      <td>unknown</td>\n",
       "      <td>single family</td>\n",
       "      <td>1.098613</td>\n",
       "      <td>Houston</td>\n",
       "      <td>7.565275</td>\n",
       "      <td>77080</td>\n",
       "      <td>TX</td>\n",
       "      <td>12.650742</td>\n",
       "      <td>False</td>\n",
       "      <td>1.098613</td>\n",
       "      <td>-0.510824</td>\n",
       "      <td>2019</td>\n",
       "    </tr>\n",
       "    <tr>\n",
       "      <th>4</th>\n",
       "      <td>For sale</td>\n",
       "      <td>condo</td>\n",
       "      <td>0.693148</td>\n",
       "      <td>Flushing</td>\n",
       "      <td>7.170120</td>\n",
       "      <td>11354</td>\n",
       "      <td>NY</td>\n",
       "      <td>13.413539</td>\n",
       "      <td>False</td>\n",
       "      <td>1.897120</td>\n",
       "      <td>-1.203969</td>\n",
       "      <td>1965</td>\n",
       "    </tr>\n",
       "  </tbody>\n",
       "</table>\n",
       "</div>"
      ],
      "text/plain": [
       "     status   propertyType      baths            city      sqft  zipcode  \\\n",
       "0    Active  single family   1.252763  Southern Pines  7.972466    28387   \n",
       "1  For sale  single family   1.098613  Spokane Valley  7.574045    99216   \n",
       "2    Active          other -13.815511       POINCIANA  7.317876    34759   \n",
       "3   unknown  single family   1.098613         Houston  7.565275    77080   \n",
       "4  For sale          condo   0.693148        Flushing  7.170120    11354   \n",
       "\n",
       "  state     target  private_pool  avg_schools_rating  school_distance_min  \\\n",
       "0    NC  12.943237         False            1.648659             0.993252   \n",
       "1    WA  12.644328         False            1.386295             0.009951   \n",
       "2    FL  12.109011         False            0.847298            -0.223142   \n",
       "3    TX  12.650742         False            1.098613            -0.510824   \n",
       "4    NY  13.413539         False            1.897120            -1.203969   \n",
       "\n",
       "  Year built  \n",
       "0       2019  \n",
       "1       2019  \n",
       "2       2006  \n",
       "3       2019  \n",
       "4       1965  "
      ]
     },
     "execution_count": 27,
     "metadata": {},
     "output_type": "execute_result"
    }
   ],
   "source": [
    "# Чтение данных без кодирования категориальных признаков\n",
    "df = pd.read_csv('data/cleaned_data_for_CatBoost.csv')\n",
    "df.head()"
   ]
  },
  {
   "cell_type": "code",
   "execution_count": 40,
   "metadata": {},
   "outputs": [],
   "source": [
    "# Разделение данных\n",
    "y = df['target']\n",
    "X = df.drop(['target'], axis=1)\n",
    "X_train, X_test, y_train, y_test = train_test_split(X, y, test_size=0.2, shuffle=True, random_state=RANDOM_SEED)"
   ]
  },
  {
   "cell_type": "code",
   "execution_count": 42,
   "metadata": {},
   "outputs": [
    {
     "name": "stdout",
     "output_type": "stream",
     "text": [
      "Fitting 5 folds for each of 81 candidates, totalling 405 fits\n"
     ]
    }
   ],
   "source": [
    "# Список категориальных признаков\n",
    "cat_features = ['status', 'propertyType', 'zipcode', 'state', 'city', 'Year built']\n",
    "param_grid = {\n",
    "    'iterations': [100, 300, 500],\n",
    "    'learning_rate': [0.01, 0.03, 0.1],\n",
    "    'depth': [4, 6, 8],\n",
    "    'l2_leaf_reg': [1, 3, 5],\n",
    "}\n",
    "cb_model = CatBoostRegressor(random_seed=RANDOM_SEED, silent=True)\n",
    "grid_search = GridSearchCV(estimator=cb_model, param_grid=param_grid, cv=5, scoring='neg_mean_squared_error', verbose=2, n_jobs=-1)\n",
    "grid_search.fit(X_train, y_train, cat_features=cat_features)\n",
    "best_params = grid_search.best_params_\n",
    "best_cb_model = CatBoostRegressor(iterations=best_params['iterations'], learning_rate=best_params['learning_rate'], depth=best_params['depth'], l2_leaf_reg=best_params['l2_leaf_reg'], random_seed=RANDOM_SEED, silent=True)\n",
    "best_cb_model.fit(X_train, y_train, cat_features=cat_features)\n",
    "\n",
    "y_train_pred = best_cb_model.predict(X_train)\n",
    "y_test_pred = best_cb_model.predict(X_test)"
   ]
  },
  {
   "cell_type": "code",
   "execution_count": 43,
   "metadata": {},
   "outputs": [
    {
     "name": "stdout",
     "output_type": "stream",
     "text": [
      "Train MSE: 0.09\n",
      "Test MSE: 0.10\n",
      "Train MAE: 0.20\n",
      "Test MAE: 0.21\n",
      "Train R2: 0.88\n",
      "Test R2: 0.87\n"
     ]
    }
   ],
   "source": [
    "# Расчет метрик\n",
    "mse_train = mean_squared_error(y_train, y_train_pred)\n",
    "mse_test = mean_squared_error(y_test, y_test_pred)\n",
    "mae_train = mean_absolute_error(y_train, y_train_pred)\n",
    "mae_test = mean_absolute_error(y_test, y_test_pred) \n",
    "r2_train = r2_score(y_train, y_train_pred)\n",
    "r2_test = r2_score(y_test, y_test_pred)\n",
    "\n",
    "print(f\"Train MSE: {mse_train:.2f}\")\n",
    "print(f\"Test MSE: {mse_test:.2f}\")\n",
    "print(f\"Train MAE: {mae_train:.2f}\")\n",
    "print(f\"Test MAE: {mae_test:.2f}\") \n",
    "print(f\"Train R2: {r2_train:.2f}\")\n",
    "print(f\"Test R2: {r2_test:.2f}\")"
   ]
  },
  {
   "cell_type": "markdown",
   "metadata": {},
   "source": [
    "### Выводы\n",
    "Алгоритм градиентного бустинга для задачи регрессии CatBoostRegressor работает так же хорошо, как RandomizedSearchCV.\n",
    "\n",
    "На трейновой выборке ошибки MAE, MSE и коэффициен детерминации показывают чуть похуже результат, чем модель RandomizedSearchCV.\n",
    "\n",
    "На тестовой выборке результаты аналогичны RandomizedSearchCV, только MAE На одну сотку больше (0,21).\n",
    "\n",
    "Вцелом модель CatBoostRegressor чуть лучше справляется с переобучением, а по значению ошибок практически совпадает с RandomizedSearchCV, но обучение занимает значительно больше времени (в моем случае 280 минут).\n",
    "\n"
   ]
  },
  {
   "cell_type": "markdown",
   "metadata": {},
   "source": [
    "## Итоги по построению и оценке моделей"
   ]
  },
  {
   "cell_type": "code",
   "execution_count": 31,
   "metadata": {},
   "outputs": [
    {
     "data": {
      "text/html": [
       "<div>\n",
       "<style scoped>\n",
       "    .dataframe tbody tr th:only-of-type {\n",
       "        vertical-align: middle;\n",
       "    }\n",
       "\n",
       "    .dataframe tbody tr th {\n",
       "        vertical-align: top;\n",
       "    }\n",
       "\n",
       "    .dataframe thead th {\n",
       "        text-align: right;\n",
       "    }\n",
       "</style>\n",
       "<table border=\"1\" class=\"dataframe\">\n",
       "  <thead>\n",
       "    <tr style=\"text-align: right;\">\n",
       "      <th></th>\n",
       "      <th>Metric</th>\n",
       "      <th>LinearRegression</th>\n",
       "      <th>Ridge</th>\n",
       "      <th>ElasticNetCV</th>\n",
       "      <th>RandomForestRegressor</th>\n",
       "      <th>RandomizedSearchCV</th>\n",
       "      <th>CatBoostRegressor</th>\n",
       "    </tr>\n",
       "  </thead>\n",
       "  <tbody>\n",
       "    <tr>\n",
       "      <th>0</th>\n",
       "      <td>Train MSE</td>\n",
       "      <td>0.46</td>\n",
       "      <td>0.46</td>\n",
       "      <td>0.59</td>\n",
       "      <td>0.01</td>\n",
       "      <td>0.05</td>\n",
       "      <td>0.08</td>\n",
       "    </tr>\n",
       "    <tr>\n",
       "      <th>1</th>\n",
       "      <td>Test MSE</td>\n",
       "      <td>0.45</td>\n",
       "      <td>0.45</td>\n",
       "      <td>0.58</td>\n",
       "      <td>0.09</td>\n",
       "      <td>0.10</td>\n",
       "      <td>0.10</td>\n",
       "    </tr>\n",
       "    <tr>\n",
       "      <th>2</th>\n",
       "      <td>Train MAE</td>\n",
       "      <td>0.49</td>\n",
       "      <td>0.49</td>\n",
       "      <td>0.55</td>\n",
       "      <td>0.07</td>\n",
       "      <td>0.14</td>\n",
       "      <td>0.20</td>\n",
       "    </tr>\n",
       "    <tr>\n",
       "      <th>3</th>\n",
       "      <td>Test MAE</td>\n",
       "      <td>0.48</td>\n",
       "      <td>0.48</td>\n",
       "      <td>0.54</td>\n",
       "      <td>0.18</td>\n",
       "      <td>0.20</td>\n",
       "      <td>0.21</td>\n",
       "    </tr>\n",
       "    <tr>\n",
       "      <th>4</th>\n",
       "      <td>Train R2</td>\n",
       "      <td>0.37</td>\n",
       "      <td>0.37</td>\n",
       "      <td>0.19</td>\n",
       "      <td>0.98</td>\n",
       "      <td>0.93</td>\n",
       "      <td>0.89</td>\n",
       "    </tr>\n",
       "    <tr>\n",
       "      <th>5</th>\n",
       "      <td>Test R2</td>\n",
       "      <td>0.37</td>\n",
       "      <td>0.37</td>\n",
       "      <td>0.19</td>\n",
       "      <td>0.87</td>\n",
       "      <td>0.86</td>\n",
       "      <td>0.86</td>\n",
       "    </tr>\n",
       "  </tbody>\n",
       "</table>\n",
       "</div>"
      ],
      "text/plain": [
       "      Metric  LinearRegression  Ridge  ElasticNetCV  RandomForestRegressor  \\\n",
       "0  Train MSE              0.46   0.46          0.59                   0.01   \n",
       "1   Test MSE              0.45   0.45          0.58                   0.09   \n",
       "2  Train MAE              0.49   0.49          0.55                   0.07   \n",
       "3   Test MAE              0.48   0.48          0.54                   0.18   \n",
       "4   Train R2              0.37   0.37          0.19                   0.98   \n",
       "5    Test R2              0.37   0.37          0.19                   0.87   \n",
       "\n",
       "   RandomizedSearchCV  CatBoostRegressor  \n",
       "0                0.05               0.08  \n",
       "1                0.10               0.10  \n",
       "2                0.14               0.20  \n",
       "3                0.20               0.21  \n",
       "4                0.93               0.89  \n",
       "5                0.86               0.86  "
      ]
     },
     "execution_count": 31,
     "metadata": {},
     "output_type": "execute_result"
    }
   ],
   "source": [
    "# построим таблицу с обобщенными данными\n",
    "metrics = {'Metric': ['Train MSE', 'Test MSE', 'Train MAE', 'Test MAE', 'Train R2', 'Test R2'],\n",
    "           'NaiveModel':[0.44, 0.44, 0.48, 0.48, 0.40, 0.41],\n",
    "           'LinearRegression': [0.45, 0.45, 0.48, 0.48, 0.38, 0.39],\n",
    "           'Ridge':[0.45, 0.45, 0.48, 0.48, 0.38, 0.39],\n",
    "           'ElasticNetCV': [0.58, 0.59, 0.54, 0.55, 0.20, 0.21],\n",
    "           'RandomForestRegressor': [0.01, 0.09, 0.07, 0.19, 0.98, 0.87],\n",
    "           'RandomizedSearchCV': [0.05, 0.10, 0.14, 0.20, 0.92, 0.86],\n",
    "           'CatBoostRegressor':[0.09, 0.10, 0.20, 0.21, 0.88, 0.87]\n",
    "}\n",
    "\n",
    "metric_com = pd.DataFrame(metrics)\n",
    "metric_com"
   ]
  },
  {
   "cell_type": "markdown",
   "metadata": {},
   "source": [
    "*Итоговый вывод:*\n",
    "\n",
    "Анализируя общую таблицу, можно сказать, что наилучшие модели RandomizedSearchCV и CatBoostRegressor. Показатели ошибок MSE и MAE наименьшие у этих моделей, коэффициент детерминации R2 наибольший для трейновой и тестовой выборок. При этом разница между выборками у этих моделей минимальная, что указывает на отсутствие переобучения у моделей.\n",
    "\n",
    "Но затраты времени на обучение значительно меньше у модели RandomizedSearchCV."
   ]
  }
 ],
 "metadata": {
  "kernelspec": {
   "display_name": "Python 3",
   "language": "python",
   "name": "python3"
  },
  "language_info": {
   "codemirror_mode": {
    "name": "ipython",
    "version": 3
   },
   "file_extension": ".py",
   "mimetype": "text/x-python",
   "name": "python",
   "nbconvert_exporter": "python",
   "pygments_lexer": "ipython3",
   "version": "3.11.4"
  },
  "orig_nbformat": 4
 },
 "nbformat": 4,
 "nbformat_minor": 2
}
